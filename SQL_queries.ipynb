{
 "cells": [
  {
   "cell_type": "markdown",
   "metadata": {},
   "source": [
    "# Data Base Creation"
   ]
  },
  {
   "cell_type": "markdown",
   "metadata": {},
   "source": [
    "Here firstly we are making a database file mydb.db from csv files. This database will furthur be used for querying various data and count them. This database file is made using our sample file so it will not reflect all of the data of New delhi."
   ]
  },
  {
   "cell_type": "code",
   "execution_count": 2,
   "metadata": {
    "collapsed": true
   },
   "outputs": [],
   "source": [
    "import sqlite3\n",
    "import csv\n",
    "from pprint import pprint\n",
    "import pandas as pd\n",
    "\n",
    "sqlite_file = 'mydb.db'    # name of the sqlite database file\n",
    "\n",
    "# Connect to the database\n",
    "conn = sqlite3.connect(sqlite_file)\n",
    "\n",
    "# Get a cursor object\n",
    "cur = conn.cursor()\n",
    "\n",
    "cur.execute('''DROP TABLE IF EXISTS nodes_tags''')\n",
    "conn.commit()\n",
    "\n",
    "# Create the table, specifying the column names and data types:\n",
    "cur.execute('''\n",
    "    CREATE TABLE nodes_tags(id INTEGER, key TEXT, value TEXT,type TEXT)\n",
    "''')\n",
    "# commit the changes\n",
    "conn.commit()\n",
    "\n",
    "# Read in the csv file as a dictionary, format the\n",
    "# data as a list of tuples:\n",
    "with open('nodes_tags.csv','rb') as fin:\n",
    "    dr = csv.DictReader(fin) # comma is default delimiter\n",
    "    to_db = [(i['id'].decode(\"utf-8\"), i['key'].decode(\"utf-8\"),i['value'].decode(\"utf-8\"), i['type'].decode(\"utf-8\")) for i in dr]\n",
    "\n",
    "# insert the formatted data\n",
    "cur.executemany(\"INSERT INTO nodes_tags(id, key, value,type) VALUES (?, ?, ?, ?);\", to_db)\n",
    "# commit the changes\n",
    "conn.commit()    \n",
    "\n",
    "cur = conn.cursor()\n",
    "\n",
    "cur.execute('''DROP TABLE IF EXISTS nodes''')\n",
    "conn.commit()\n",
    "\n",
    "cur.execute('''\n",
    "    CREATE TABLE nodes(id INTEGER, lat INTEGER, lon INTEGER,user TEXT, uid INGETER, version INTEGER, changeset TEXT,timestamp TEXT)\n",
    "''')\n",
    "# commit the changes\n",
    "conn.commit()\n",
    "with open('nodes.csv','rb') as fin:\n",
    "    dr = csv.DictReader(fin) # comma is default delimiter\n",
    "    to_db = [ (i[\"id\"], i['lat'],i['lon'],i['user'].decode('utf-8'), i['uid'], i[\"version\"], i[\"changeset\"], i[\"timestamp\"]) for i in dr]\n",
    "    \n",
    "# insert the formatted data\n",
    "cur.executemany(\"INSERT INTO nodes(id, lat, lon,user,uid,version,changeset,timestamp) VALUES (?, ?, ?, ? ,? ,? ,?,?);\", to_db)\n",
    "# commit the changes\n",
    "conn.commit()\n",
    "\n",
    "cur = conn.cursor()\n",
    "\n",
    "cur.execute('''DROP TABLE IF EXISTS ways''')\n",
    "conn.commit()\n",
    "\n",
    "cur.execute('''\n",
    "    CREATE TABLE ways(id INTEGER, user TEXT, uid INGETER, version INTEGER, changeset TEXT,timestamp TEXT)\n",
    "''')\n",
    "# commit the changes\n",
    "conn.commit()\n",
    "\n",
    "with open('ways.csv','rb') as fin:\n",
    "    dr = csv.DictReader(fin) # comma is default delimiter\n",
    "    to_db = [ (i[\"id\"], i['user'].decode('utf-8'), i['uid'], i[\"version\"], i[\"changeset\"], i[\"timestamp\"]) for i in dr]\n",
    "# insert the formatted data\n",
    "cur.executemany(\"INSERT INTO ways(id,user,uid,version,changeset,timestamp) VALUES (?, ?, ?, ? ,? ,? );\", to_db)\n",
    "# commit the changes\n",
    "conn.commit()\n",
    "    \n",
    "cur = conn.cursor()\n",
    "\n",
    "cur.execute('''DROP TABLE IF EXISTS ways_tags''')\n",
    "conn.commit()\n",
    "\n",
    "cur.execute('''\n",
    "CREATE TABLE ways_tags(id INTEGER, key TEXT, value TEXT, type TEXT) ''')\n",
    "# commit the changes\n",
    "conn.commit()\n",
    "with open('ways_tags.csv','rb') as fin:\n",
    "    dr = csv.DictReader(fin) # comma is default delimiter\n",
    "    to_db = [ (i[\"id\"], i[\"key\"],i[\"value\"], i[\"type\"]) for i in dr]\n",
    "# insert the formatted data\n",
    "cur.executemany(\"INSERT INTO ways_tags(id,key,value,type) VALUES (?, ?, ?, ? );\", to_db)\n",
    "# commit the changes\n",
    "conn.commit()\n",
    "\n",
    "cur = conn.cursor()\n",
    "\n",
    "cur.execute('''DROP TABLE IF EXISTS ways_nodes''')\n",
    "conn.commit()\n",
    "\n",
    "cur.execute('''\n",
    "CREATE TABLE ways_nodes(id INTEGER, node_id TEXT, position INTEGER) ''')\n",
    "# commit the changes\n",
    "conn.commit()\n",
    "with open('ways_nodes.csv','rb') as fin:\n",
    "    dr = csv.DictReader(fin) # comma is default delimiter\n",
    "    to_db = [ (i[\"id\"], i[\"node_id\"],i[\"position\"]) for i in dr]\n",
    "# insert the formatted data\n",
    "cur.executemany(\"INSERT INTO ways_nodes(id,node_id,position) VALUES (?, ?, ?);\", to_db)\n",
    "# commit the changes\n",
    "conn.commit()"
   ]
  },
  {
   "cell_type": "markdown",
   "metadata": {},
   "source": [
    "# Queries"
   ]
  },
  {
   "cell_type": "code",
   "execution_count": 3,
   "metadata": {},
   "outputs": [
    {
     "name": "stdout",
     "output_type": "stream",
     "text": [
      "('number of nodes are ',         0\n",
      "0  113875)\n"
     ]
    }
   ],
   "source": [
    "#number of \"node\" tags\n",
    "import sqlite3\n",
    "db = sqlite3.connect(\"mydb.db\")\n",
    "c = db.cursor()\n",
    "QUERY = '''SELECT count(*)as num from nodes\n",
    "'''\n",
    "c.execute(QUERY)\n",
    "rows = c.fetchall()\n",
    "    \n",
    "df = pd.DataFrame(rows)\n",
    "print(\"number of nodes are \" ,df)\n",
    "\n",
    "db.close()"
   ]
  },
  {
   "cell_type": "code",
   "execution_count": 4,
   "metadata": {},
   "outputs": [
    {
     "name": "stdout",
     "output_type": "stream",
     "text": [
      "('number of ways are ',        0\n",
      "0  23177)\n"
     ]
    }
   ],
   "source": [
    "# number of 'Ways' tags\n",
    "import sqlite3\n",
    "db = sqlite3.connect(\"mydb.db\")\n",
    "c = db.cursor()\n",
    "QUERY = '''SELECT count(*) as num from ways\n",
    "'''\n",
    "c.execute(QUERY)\n",
    "rows = c.fetchall()\n",
    "    \n",
    "df = pd.DataFrame(rows)\n",
    "print(\"number of ways are \",df)\n",
    "\n",
    "db.close()"
   ]
  },
  {
   "cell_type": "code",
   "execution_count": 5,
   "metadata": {},
   "outputs": [
    {
     "name": "stdout",
     "output_type": "stream",
     "text": [
      "Top 10 amenities  available in New Delhi are \n",
      "                  0   1\n",
      "0            school  21\n",
      "1              fuel  13\n",
      "2           parking   8\n",
      "3               atm   7\n",
      "4            cinema   6\n",
      "5         fast_food   6\n",
      "6          pharmacy   6\n",
      "7  place_of_worship   5\n",
      "8       marketplace   4\n",
      "9          hospital   3\n"
     ]
    }
   ],
   "source": [
    "#Top 10 amenities  available in New Delhi\n",
    "import sqlite3\n",
    "db = sqlite3.connect(\"mydb.db\")\n",
    "c = db.cursor()\n",
    "QUERY = '''SELECT value,count(*)as num from (select value,key from nodes_tags  UNION ALL select value,key from ways_tags)\n",
    "where key='amenity'\n",
    "group by value\n",
    "order by num desc\n",
    "limit 10;\n",
    "'''\n",
    "c.execute(QUERY)\n",
    "rows = c.fetchall()\n",
    "\n",
    "d = pd.DataFrame(rows)\n",
    "print(\"Top 10 amenities  available in New Delhi are \")\n",
    "print(d)\n",
    "\n",
    "db.close()"
   ]
  },
  {
   "cell_type": "code",
   "execution_count": 6,
   "metadata": {},
   "outputs": [
    {
     "name": "stdout",
     "output_type": "stream",
     "text": [
      "('number of unique users are ', 625)\n",
      "                           0\n",
      "0                     rene78\n",
      "1                    H_S_Rai\n",
      "2                   PlaneMad\n",
      "3                      sahil\n",
      "4                   thevikas\n",
      "5                   Oberaffe\n",
      "6                  Neerajgis\n",
      "7                     aarthy\n",
      "8              marek kleciak\n",
      "9                    roemcke\n",
      "10            Nishant Sharma\n",
      "11                    Edolis\n",
      "12                  saikumar\n",
      "13                  anthony1\n",
      "14    OSMF Redaction Account\n",
      "15                  pvprasad\n",
      "16                    n'garh\n",
      "17                   cdavila\n",
      "18                   lxbarth\n",
      "19                  praveeng\n",
      "20                 CloCkWeRX\n",
      "21                 hareesh11\n",
      "22                  Apreethi\n",
      "23               sourabh2910\n",
      "24                    clgowa\n",
      "25             SanjeevKumarT\n",
      "26                   tsk1979\n",
      "27                     Alban\n",
      "28                    Mettal\n",
      "29                ravikumar1\n",
      "..                       ...\n",
      "595               ChrissW-R1\n",
      "596              Bodhisattwa\n",
      "597              Art Penteur\n",
      "598                   hofoen\n",
      "599                   rocKmi\n",
      "600           Little Brother\n",
      "601                  lakshay\n",
      "602             Varun Mittal\n",
      "603            Hilton Hotels\n",
      "604                Abbasi MF\n",
      "605                  Gauravc\n",
      "606                 bhivania\n",
      "607                Vishalkmr\n",
      "608                  roadfox\n",
      "609          Sourabh Rustagi\n",
      "610             Ram on Rails\n",
      "611                    Nearo\n",
      "612     lks1[konto usunięte]\n",
      "613                vjain1737\n",
      "614              Kunal Relan\n",
      "615          Snigdha Khaneja\n",
      "616            ShishirSharma\n",
      "617              Supriyo Das\n",
      "618              highflyer74\n",
      "619                oshosagar\n",
      "620                BCNorwich\n",
      "621                  Vipansh\n",
      "622      SUKHJIT SINGH SEHRA\n",
      "623                 asadahmd\n",
      "624  Parthiv Anand Ravindran\n",
      "\n",
      "[625 rows x 1 columns]\n"
     ]
    }
   ],
   "source": [
    "# number of unique users with list\n",
    "import sqlite3\n",
    "db = sqlite3.connect(\"mydb.db\")\n",
    "c = db.cursor()\n",
    "QUERY = '''SELECT DISTINCT(user) from (select user from nodes UNION ALL select user from ways)'''\n",
    "\n",
    "c.execute(QUERY)\n",
    "rows = c.fetchall()\n",
    "import pandas as pd    \n",
    "df = pd.DataFrame(rows)\n",
    "print(\"number of unique users are \",len(df))\n",
    "print(df)\n",
    "\n",
    "db.close()"
   ]
  },
  {
   "cell_type": "code",
   "execution_count": 7,
   "metadata": {},
   "outputs": [
    {
     "name": "stdout",
     "output_type": "stream",
     "text": [
      "('Number of cuisines available in New Delhi are :', 2)\n",
      "              0  1\n",
      "0        indian  6\n",
      "1  multicuisine  2\n"
     ]
    }
   ],
   "source": [
    "#cusines available and their count \n",
    "import sqlite3\n",
    "db = sqlite3.connect(\"mydb.db\")\n",
    "c = db.cursor()\n",
    "QUERY = '''SELECT value,count(*)as num from (select value,key from nodes_tags  UNION ALL select value,key from ways_tags)\n",
    "where key='cuisine'\n",
    "group by value\n",
    "order by num desc\n",
    ";\n",
    "'''\n",
    "c.execute(QUERY)\n",
    "rows = c.fetchall()\n",
    "import pandas as pd    \n",
    "df = pd.DataFrame(rows)\n",
    "print(\"Number of cuisines available in New Delhi are :\", len(df))\n",
    "print(df)\n",
    "\n",
    "db.close()"
   ]
  },
  {
   "cell_type": "code",
   "execution_count": 9,
   "metadata": {},
   "outputs": [
    {
     "name": "stdout",
     "output_type": "stream",
     "text": [
      "Top 10 contributers\n",
      "               0     1\n",
      "0       Oberaffe  8978\n",
      "1      premkumar  5453\n",
      "2       saikumar  5390\n",
      "3       Naresh08  4564\n",
      "4        anushap  4457\n",
      "5         sdivya  4320\n",
      "6       anthony1  4195\n",
      "7     himabindhu  4112\n",
      "8  sathishshetty  4063\n",
      "9       Apreethi  3796\n"
     ]
    }
   ],
   "source": [
    "#Top 10 contributers\n",
    "import sqlite3\n",
    "db = sqlite3.connect(\"mydb.db\")\n",
    "c = db.cursor()\n",
    "QUERY = '''SELECT user,count(user)  from (select user from nodes UNION ALL select user from ways)\n",
    "group by user\n",
    "order by  count(user) desc\n",
    "limit 10\n",
    "'''\n",
    "c.execute(QUERY) \n",
    "top = c.fetchall()\n",
    "df=pd.DataFrame(top)\n",
    "print(\"Top 10 contributers\")\n",
    "print (df)"
   ]
  },
  {
   "cell_type": "code",
   "execution_count": null,
   "metadata": {
    "collapsed": true
   },
   "outputs": [],
   "source": []
  }
 ],
 "metadata": {
  "kernelspec": {
   "display_name": "Python [conda env:py2]",
   "language": "python",
   "name": "conda-env-py2-py"
  },
  "language_info": {
   "codemirror_mode": {
    "name": "ipython",
    "version": 2
   },
   "file_extension": ".py",
   "mimetype": "text/x-python",
   "name": "python",
   "nbconvert_exporter": "python",
   "pygments_lexer": "ipython2",
   "version": "2.7.13"
  }
 },
 "nbformat": 4,
 "nbformat_minor": 2
}
